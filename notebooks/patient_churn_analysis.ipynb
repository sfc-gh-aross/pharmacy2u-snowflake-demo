{
  "cells": [
    {
      "cell_type": "markdown",
      "metadata": {},
      "source": [
        "# Pharmacy2U - Patient Churn Analysis\n",
        "\n",
        "**Author**: Data Science Team  \n",
        "**Date**: September 2025  \n",
        "**Purpose**: Analyze patient retention patterns and identify churn risk factors\n",
        "\n",
        "## Business Context\n",
        "\n",
        "Patient retention is critical for Pharmacy2U's growth. This analysis identifies:\n",
        "- Patients at risk of churning (discontinuing prescriptions)\n",
        "- Key indicators of churn behavior\n",
        "- Actionable cohorts for retention campaigns\n",
        "- Feature engineering for predictive modeling\n",
        "\n",
        "**Target Audience**: Marketing, Data Science, Business Strategy\n"
      ]
    }
  ],
  "metadata": {
    "language_info": {
      "name": "python"
    }
  },
  "nbformat": 4,
  "nbformat_minor": 2
}
